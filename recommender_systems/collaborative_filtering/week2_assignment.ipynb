{
 "cells": [
  {
   "cell_type": "code",
   "execution_count": 24,
   "metadata": {
    "collapsed": true
   },
   "outputs": [],
   "source": [
    "import pandas as pd\n",
    "import numpy as np"
   ]
  },
  {
   "cell_type": "markdown",
   "metadata": {},
   "source": [
    "# Not normalized"
   ]
  },
  {
   "cell_type": "code",
   "execution_count": 74,
   "metadata": {
    "collapsed": false,
    "scrolled": true
   },
   "outputs": [],
   "source": [
    "ratings = pd.read_csv('assign_spreadsheet.csv', index_col=0)\n",
    "corr = ratings.corr()"
   ]
  },
  {
   "cell_type": "code",
   "execution_count": 96,
   "metadata": {
    "collapsed": false,
    "scrolled": true
   },
   "outputs": [],
   "source": [
    "def get_top_5_neighbors(corr, user):\n",
    "    corr_user = corr.loc[user].sort_values()[-6:-1]\n",
    "    return (list(corr_user.index), corr_user.tolist())\n",
    "\n",
    "def get_top_3_movies(ratings, corr, user):\n",
    "    users_neighbors, correlations = get_top_5_neighbors(corr, user)\n",
    "\n",
    "    ratings_user = dict()\n",
    "    for movie, movie_ratings in ratings.loc[:, users_neighbors].fillna(-1).iterrows():\n",
    "        total_weights = 0\n",
    "        total_rating = 0\n",
    "        for rating, corr_user in zip(movie_ratings, correlations):\n",
    "            if rating >= 0:\n",
    "                total_weights += corr_user\n",
    "                total_rating += rating * corr_user\n",
    "        ratings_user[movie] = total_rating / total_weights if total_weights > 0 else None\n",
    "    return pd.Series(ratings_user).sort_values(ascending = False)[:3]"
   ]
  },
  {
   "cell_type": "code",
   "execution_count": 97,
   "metadata": {
    "collapsed": false
   },
   "outputs": [
    {
     "data": {
      "text/plain": [
       "1891: Star Wars: Episode V - The Empire Strikes Back (1980)    4.760\n",
       "155: The Dark Knight (2008)                                    4.551\n",
       "122: The Lord of the Rings: The Return of the King (2003)      4.508\n",
       "dtype: float64"
      ]
     },
     "execution_count": 97,
     "metadata": {},
     "output_type": "execute_result"
    }
   ],
   "source": [
    "get_top_3_movies(ratings, corr, '3867').round(3)"
   ]
  },
  {
   "cell_type": "code",
   "execution_count": 98,
   "metadata": {
    "collapsed": false
   },
   "outputs": [
    {
     "data": {
      "text/plain": [
       "238: The Godfather (1972)               4.894\n",
       "278: The Shawshank Redemption (1994)    4.882\n",
       "807: Seven (a.k.a. Se7en) (1995)        4.774\n",
       "dtype: float64"
      ]
     },
     "execution_count": 98,
     "metadata": {},
     "output_type": "execute_result"
    }
   ],
   "source": [
    "get_top_3_movies(ratings, corr, '89').round(3)"
   ]
  },
  {
   "cell_type": "markdown",
   "metadata": {},
   "source": [
    "# Normalized"
   ]
  },
  {
   "cell_type": "code",
   "execution_count": 94,
   "metadata": {
    "collapsed": true
   },
   "outputs": [],
   "source": [
    "def get_top_3_movies_normalized(ratings, corr, user):\n",
    "    users_neighbors, correlations = get_top_5_neighbors(corr, user)\n",
    "    r_u = ratings.loc[:, user].mean()\n",
    "    r_ns = ratings.loc[:, users_neighbors].mean()\n",
    "\n",
    "    ratings_user = dict()\n",
    "    for movie, movie_ratings in ratings.loc[:, users_neighbors].fillna(-1).iterrows():\n",
    "        total_weights = 0\n",
    "        total_rating = 0\n",
    "        for rating, corr_user, r_n in zip(movie_ratings, correlations, r_ns):\n",
    "            if rating >= 0:\n",
    "                total_weights += corr_user\n",
    "                total_rating += (rating - r_n) * corr_user\n",
    "        ratings_user[movie] = r_u + total_rating / total_weights if total_weights > 0 else None\n",
    "    return pd.Series(ratings_user).sort_values(ascending = False)[:3]"
   ]
  },
  {
   "cell_type": "code",
   "execution_count": 101,
   "metadata": {
    "collapsed": false
   },
   "outputs": [
    {
     "data": {
      "text/plain": [
       "1891: Star Wars: Episode V - The Empire Strikes Back (1980)    5.246\n",
       "155: The Dark Knight (2008)                                    4.857\n",
       "77: Memento (2000)                                             4.778\n",
       "dtype: float64"
      ]
     },
     "execution_count": 101,
     "metadata": {},
     "output_type": "execute_result"
    }
   ],
   "source": [
    "get_top_3_movies_normalized(ratings, corr, '3867').round(3)"
   ]
  },
  {
   "cell_type": "code",
   "execution_count": 100,
   "metadata": {
    "collapsed": false
   },
   "outputs": [
    {
     "data": {
      "text/plain": [
       "238: The Godfather (1972)               5.322\n",
       "278: The Shawshank Redemption (1994)    5.261\n",
       "275: Fargo (1996)                       5.241\n",
       "dtype: float64"
      ]
     },
     "execution_count": 100,
     "metadata": {},
     "output_type": "execute_result"
    }
   ],
   "source": [
    "get_top_3_movies_normalized(ratings, corr, '89').round(3)"
   ]
  },
  {
   "cell_type": "code",
   "execution_count": null,
   "metadata": {
    "collapsed": true
   },
   "outputs": [],
   "source": []
  }
 ],
 "metadata": {
  "kernelspec": {
   "display_name": "Python 2",
   "language": "python",
   "name": "python2"
  },
  "language_info": {
   "codemirror_mode": {
    "name": "ipython",
    "version": 2
   },
   "file_extension": ".py",
   "mimetype": "text/x-python",
   "name": "python",
   "nbconvert_exporter": "python",
   "pygments_lexer": "ipython2",
   "version": "2.7.12"
  }
 },
 "nbformat": 4,
 "nbformat_minor": 2
}
